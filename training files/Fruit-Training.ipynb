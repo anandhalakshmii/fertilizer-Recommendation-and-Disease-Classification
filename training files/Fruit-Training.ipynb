{
 "cells": [
  {
   "cell_type": "code",
   "execution_count": 1,
   "id": "66fae69f",
   "metadata": {},
   "outputs": [],
   "source": [
    "from tensorflow import keras"
   ]
  },
  {
   "cell_type": "code",
   "execution_count": 2,
   "id": "0742bfb5",
   "metadata": {},
   "outputs": [],
   "source": [
    "import os\n",
    "import cv2\n",
    "import numpy as np"
   ]
  },
  {
   "cell_type": "code",
   "execution_count": 3,
   "id": "2e2e142e",
   "metadata": {},
   "outputs": [],
   "source": [
    "import tensorflow as tf"
   ]
  },
  {
   "cell_type": "code",
   "execution_count": 4,
   "id": "209ed642",
   "metadata": {},
   "outputs": [],
   "source": [
    "categories = ['Apple___Black_rot','Apple___healthy','Corn_(maize)___healthy','Corn_(maize)___Northern_Leaf_Blight','Peach___Bacterial_spot','Peach___healthy']"
   ]
  },
  {
   "cell_type": "code",
   "execution_count": 5,
   "id": "755becde",
   "metadata": {},
   "outputs": [],
   "source": [
    "data_dir = 'F:\\\\project ibm\\\\Dataset Plant Disease\\\\fruit-dataset\\\\fruit-dataset\\\\train'"
   ]
  },
  {
   "cell_type": "code",
   "execution_count": 6,
   "id": "a22ded3c",
   "metadata": {},
   "outputs": [],
   "source": [
    "data = []"
   ]
  },
  {
   "cell_type": "code",
   "execution_count": 7,
   "id": "5de235a2",
   "metadata": {},
   "outputs": [],
   "source": [
    "img_size = 100\n",
    "def make_data():\n",
    "    for category in categories:\n",
    "        path = os.path.join(data_dir, category)\n",
    "        label = categories.index(category)\n",
    "        for img_name in os.listdir(path):\n",
    "            image_path = os.path.join(path, img_name)\n",
    "            image = cv2.imread(image_path)\n",
    "            try:\n",
    "                image = cv2.cvtColor(image, cv2.COLOR_BGR2RGB)\n",
    "                image = cv2.resize(image,(img_size,img_size))\n",
    "                image = np.array(image, dtype=np.float32)\n",
    "                data.append([image,label])\n",
    "            except Exception as e:\n",
    "                pass  \n",
    "            \n",
    "make_data() "
   ]
  },
  {
   "cell_type": "code",
   "execution_count": 8,
   "id": "6d154cc4",
   "metadata": {},
   "outputs": [
    {
     "data": {
      "text/plain": [
       "5384"
      ]
     },
     "execution_count": 8,
     "metadata": {},
     "output_type": "execute_result"
    }
   ],
   "source": [
    "len(data)"
   ]
  },
  {
   "cell_type": "code",
   "execution_count": 9,
   "id": "faa9e2ad",
   "metadata": {},
   "outputs": [
    {
     "data": {
      "text/plain": [
       "'2.5.0'"
      ]
     },
     "execution_count": 9,
     "metadata": {},
     "output_type": "execute_result"
    }
   ],
   "source": [
    "tf.version.VERSION"
   ]
  },
  {
   "cell_type": "code",
   "execution_count": 10,
   "id": "9293a489",
   "metadata": {},
   "outputs": [],
   "source": [
    "np.random.shuffle(data)"
   ]
  },
  {
   "cell_type": "code",
   "execution_count": 11,
   "id": "92418b3e",
   "metadata": {},
   "outputs": [],
   "source": [
    "features = []\n",
    "labels = []\n",
    "for img,label in data:\n",
    "    features.append(img)\n",
    "    labels.append(label)"
   ]
  },
  {
   "cell_type": "code",
   "execution_count": 12,
   "id": "737dfdf1",
   "metadata": {},
   "outputs": [],
   "source": [
    "features = np.array(features, dtype = np.float32)\n",
    "labels = np.array(labels)\n",
    "features = features/255.0"
   ]
  },
  {
   "cell_type": "code",
   "execution_count": 13,
   "id": "55111e6c",
   "metadata": {},
   "outputs": [],
   "source": [
    "input_layer = tf.keras.layers.Input([100,100,3])"
   ]
  },
  {
   "cell_type": "code",
   "execution_count": 14,
   "id": "a09da28b",
   "metadata": {},
   "outputs": [],
   "source": [
    "conv1 = tf.keras.layers.Conv2D(filters = 64, kernel_size = (5,5), padding = 'Same', activation = 'relu')(input_layer)"
   ]
  },
  {
   "cell_type": "code",
   "execution_count": 15,
   "id": "6d38b402",
   "metadata": {},
   "outputs": [],
   "source": [
    "pool1 = tf.keras.layers.MaxPooling2D(pool_size = (2,2))(conv1)"
   ]
  },
  {
   "cell_type": "code",
   "execution_count": 16,
   "id": "a13dc609",
   "metadata": {},
   "outputs": [],
   "source": [
    "conv2 = tf.keras.layers.Conv2D(filters = 64, kernel_size = (3,3), padding = 'Same', activation = 'relu')(pool1)"
   ]
  },
  {
   "cell_type": "code",
   "execution_count": 17,
   "id": "063b994a",
   "metadata": {},
   "outputs": [],
   "source": [
    "pool2 = tf.keras.layers.MaxPooling2D(pool_size = (2,2), strides = (2,2))(conv2)"
   ]
  },
  {
   "cell_type": "code",
   "execution_count": 18,
   "id": "07bfcc44",
   "metadata": {},
   "outputs": [],
   "source": [
    "conv3 = tf.keras.layers.Conv2D(filters = 96, kernel_size = (3,3), padding = 'Same', activation = 'relu')(pool2)"
   ]
  },
  {
   "cell_type": "code",
   "execution_count": 19,
   "id": "1ea5c54d",
   "metadata": {},
   "outputs": [],
   "source": [
    "pool3 = tf.keras.layers.MaxPooling2D(pool_size = (2,2), strides = (2,2))(conv3)"
   ]
  },
  {
   "cell_type": "code",
   "execution_count": 20,
   "id": "b70f073b",
   "metadata": {},
   "outputs": [],
   "source": [
    "conv4 = tf.keras.layers.Conv2D(filters = 96, kernel_size = (3,3), padding = 'Same', activation = 'relu')(pool3)"
   ]
  },
  {
   "cell_type": "code",
   "execution_count": 21,
   "id": "9bb798fb",
   "metadata": {},
   "outputs": [],
   "source": [
    "pool4 = tf.keras.layers.MaxPooling2D(pool_size = (2,2), strides = (2,2))(conv4)"
   ]
  },
  {
   "cell_type": "code",
   "execution_count": 22,
   "id": "e61da430",
   "metadata": {},
   "outputs": [],
   "source": [
    "flt1 = tf.keras.layers.Flatten()(pool4)"
   ]
  },
  {
   "cell_type": "code",
   "execution_count": 23,
   "id": "7c4e104b",
   "metadata": {},
   "outputs": [],
   "source": [
    "dn1 = tf.keras.layers.Dense(256,activation = 'relu')(flt1)"
   ]
  },
  {
   "cell_type": "code",
   "execution_count": 24,
   "id": "f0accafa",
   "metadata": {},
   "outputs": [],
   "source": [
    "dn2 = tf.keras.layers.Dense(124,activation = 'relu')(dn1)"
   ]
  },
  {
   "cell_type": "code",
   "execution_count": 25,
   "id": "9e81ae67",
   "metadata": {},
   "outputs": [],
   "source": [
    "out = tf.keras.layers.Dense(10,activation = 'softmax')(dn1)"
   ]
  },
  {
   "cell_type": "code",
   "execution_count": 26,
   "id": "efcf3c83",
   "metadata": {},
   "outputs": [],
   "source": [
    "model = tf.keras.Model(input_layer, out)"
   ]
  },
  {
   "cell_type": "code",
   "execution_count": 27,
   "id": "e5094b38",
   "metadata": {},
   "outputs": [],
   "source": [
    "model.compile(optimizer = 'adam', loss = 'sparse_categorical_crossentropy', metrics = ['accuracy'])"
   ]
  },
  {
   "cell_type": "code",
   "execution_count": 28,
   "id": "9615e3eb",
   "metadata": {},
   "outputs": [
    {
     "name": "stdout",
     "output_type": "stream",
     "text": [
      "Epoch 1/15\n",
      "54/54 [==============================] - 87s 1s/step - loss: 1.2768 - accuracy: 0.5059\n",
      "Epoch 2/15\n",
      "54/54 [==============================] - 70s 1s/step - loss: 0.3429 - accuracy: 0.8821\n",
      "Epoch 3/15\n",
      "54/54 [==============================] - 78s 1s/step - loss: 0.2261 - accuracy: 0.9211\n",
      "Epoch 4/15\n",
      "54/54 [==============================] - 78s 1s/step - loss: 0.1590 - accuracy: 0.9460\n",
      "Epoch 5/15\n",
      "54/54 [==============================] - 77s 1s/step - loss: 0.1052 - accuracy: 0.9640\n",
      "Epoch 6/15\n",
      "54/54 [==============================] - 71s 1s/step - loss: 0.1112 - accuracy: 0.9608\n",
      "Epoch 7/15\n",
      "54/54 [==============================] - 70s 1s/step - loss: 0.0931 - accuracy: 0.9701\n",
      "Epoch 8/15\n",
      "54/54 [==============================] - 67s 1s/step - loss: 0.0629 - accuracy: 0.9783\n",
      "Epoch 9/15\n",
      "54/54 [==============================] - 67s 1s/step - loss: 0.0696 - accuracy: 0.9755\n",
      "Epoch 10/15\n",
      "54/54 [==============================] - 67s 1s/step - loss: 0.0393 - accuracy: 0.9859\n",
      "Epoch 11/15\n",
      "54/54 [==============================] - 66s 1s/step - loss: 0.0491 - accuracy: 0.9827\n",
      "Epoch 12/15\n",
      "54/54 [==============================] - 65s 1s/step - loss: 0.0208 - accuracy: 0.9920\n",
      "Epoch 13/15\n",
      "54/54 [==============================] - 66s 1s/step - loss: 0.3220 - accuracy: 0.8984\n",
      "Epoch 14/15\n",
      "54/54 [==============================] - 64s 1s/step - loss: 0.0907 - accuracy: 0.9679\n",
      "Epoch 15/15\n",
      "54/54 [==============================] - 71s 1s/step - loss: 0.0468 - accuracy: 0.9825\n"
     ]
    },
    {
     "data": {
      "text/plain": [
       "<tensorflow.python.keras.callbacks.History at 0x16c3b8f3af0>"
      ]
     },
     "execution_count": 28,
     "metadata": {},
     "output_type": "execute_result"
    }
   ],
   "source": [
    "model.fit(features, labels, batch_size = 100, epochs = 15)"
   ]
  },
  {
   "cell_type": "code",
   "execution_count": 29,
   "id": "d4e76ae0",
   "metadata": {},
   "outputs": [],
   "source": [
    "model.save('fruit.h5')"
   ]
  },
  {
   "cell_type": "code",
   "execution_count": null,
   "id": "3bc4e9df",
   "metadata": {},
   "outputs": [],
   "source": []
  },
  {
   "cell_type": "code",
   "execution_count": null,
   "id": "01e9aa49",
   "metadata": {},
   "outputs": [],
   "source": []
  },
  {
   "cell_type": "code",
   "execution_count": 5,
   "id": "7be6bf8f",
   "metadata": {},
   "outputs": [],
   "source": [
    "data_dir = 'F:\\\\project ibm\\\\Dataset Plant Disease\\\\fruit-dataset\\\\fruit-dataset\\\\test'"
   ]
  },
  {
   "cell_type": "code",
   "execution_count": 6,
   "id": "bbf7d89e",
   "metadata": {},
   "outputs": [],
   "source": [
    "testdata = []"
   ]
  },
  {
   "cell_type": "code",
   "execution_count": 7,
   "id": "af618aea",
   "metadata": {},
   "outputs": [],
   "source": [
    "img_size = 100\n",
    "def make_data():\n",
    "    for category in categories:\n",
    "        path = os.path.join(data_dir, category)\n",
    "        label = categories.index(category)\n",
    "        for img_name in os.listdir(path):\n",
    "            image_path = os.path.join(path, img_name)\n",
    "            image = cv2.imread(image_path)\n",
    "            try:\n",
    "                image = cv2.cvtColor(image, cv2.COLOR_BGR2RGB)\n",
    "                image = cv2.resize(image,(img_size,img_size))\n",
    "                image = np.array(image, dtype=np.float32)\n",
    "                testdata.append([image,label])\n",
    "            except Exception as e:\n",
    "                pass  \n",
    "            \n",
    "make_data() "
   ]
  },
  {
   "cell_type": "code",
   "execution_count": 8,
   "id": "2ce2ff37",
   "metadata": {},
   "outputs": [],
   "source": [
    "np.random.shuffle(testdata)"
   ]
  },
  {
   "cell_type": "code",
   "execution_count": 9,
   "id": "12ec4101",
   "metadata": {},
   "outputs": [],
   "source": [
    "tfeatures = []\n",
    "tlabels = []\n",
    "for img,label in testdata:\n",
    "    tfeatures.append(img)\n",
    "    tlabels.append(label)"
   ]
  },
  {
   "cell_type": "code",
   "execution_count": 10,
   "id": "9f12ef39",
   "metadata": {},
   "outputs": [],
   "source": [
    "tfeatures = np.array(tfeatures, dtype = np.float32)\n",
    "tlabels = np.array(tlabels)\n",
    "tfeatures = tfeatures/255.0"
   ]
  },
  {
   "cell_type": "code",
   "execution_count": 11,
   "id": "1337530c",
   "metadata": {},
   "outputs": [],
   "source": [
    "model = tf.keras.models.load_model('F:\\\\project ibm\\\\flask\\\\fruit.h5')"
   ]
  },
  {
   "cell_type": "code",
   "execution_count": 12,
   "id": "f60e07d8",
   "metadata": {},
   "outputs": [
    {
     "name": "stdout",
     "output_type": "stream",
     "text": [
      "53/53 [==============================] - 4s 78ms/step - loss: 0.1396 - accuracy: 0.9638\n"
     ]
    },
    {
     "data": {
      "text/plain": [
       "[0.13962984085083008, 0.963819682598114]"
      ]
     },
     "execution_count": 12,
     "metadata": {},
     "output_type": "execute_result"
    }
   ],
   "source": [
    "model.evaluate(tfeatures, tlabels, verbose = 1)"
   ]
  },
  {
   "cell_type": "code",
   "execution_count": 13,
   "id": "f28044b1",
   "metadata": {},
   "outputs": [
    {
     "data": {
      "text/plain": [
       "1686"
      ]
     },
     "execution_count": 13,
     "metadata": {},
     "output_type": "execute_result"
    }
   ],
   "source": [
    "len(testdata)"
   ]
  },
  {
   "cell_type": "code",
   "execution_count": 14,
   "id": "a293e443",
   "metadata": {},
   "outputs": [
    {
     "name": "stdout",
     "output_type": "stream",
     "text": [
      "53/53 [==============================] - 4s 82ms/step\n",
      "1625 / 1686\n"
     ]
    }
   ],
   "source": [
    "prediction = model.predict(tfeatures)\n",
    "count = 0\n",
    "for i in range(1686):\n",
    "    if categories[tlabels[i]] == categories[np.argmax(prediction[i]) ]:\n",
    "        count+=1\n",
    "print(count,'/',1686)\n",
    "   "
   ]
  },
  {
   "cell_type": "code",
   "execution_count": 15,
   "id": "5fd2d208",
   "metadata": {},
   "outputs": [
    {
     "name": "stdout",
     "output_type": "stream",
     "text": [
      "Actual:Peach___Bacterial_spot\n",
      "Predictions:Peach___Bacterial_spot\n",
      "Actual:Peach___Bacterial_spot\n",
      "Predictions:Peach___Bacterial_spot\n",
      "Actual:Peach___Bacterial_spot\n",
      "Predictions:Peach___Bacterial_spot\n",
      "Actual:Peach___Bacterial_spot\n",
      "Predictions:Peach___Bacterial_spot\n",
      "Actual:Peach___Bacterial_spot\n",
      "Predictions:Peach___Bacterial_spot\n",
      "Actual:Peach___Bacterial_spot\n",
      "Predictions:Peach___Bacterial_spot\n",
      "Actual:Corn_(maize)___healthy\n",
      "Predictions:Corn_(maize)___healthy\n",
      "Actual:Corn_(maize)___Northern_Leaf_Blight\n",
      "Predictions:Corn_(maize)___Northern_Leaf_Blight\n",
      "Actual:Corn_(maize)___healthy\n",
      "Predictions:Corn_(maize)___healthy\n",
      "Actual:Peach___Bacterial_spot\n",
      "Predictions:Peach___Bacterial_spot\n",
      "Actual:Apple___healthy\n",
      "Predictions:Apple___healthy\n",
      "Actual:Apple___healthy\n",
      "Predictions:Apple___healthy\n",
      "Actual:Apple___Black_rot\n",
      "Predictions:Apple___Black_rot\n",
      "Actual:Apple___healthy\n",
      "Predictions:Apple___healthy\n",
      "Actual:Peach___Bacterial_spot\n",
      "Predictions:Peach___Bacterial_spot\n",
      "Actual:Corn_(maize)___Northern_Leaf_Blight\n",
      "Predictions:Corn_(maize)___Northern_Leaf_Blight\n",
      "Actual:Apple___healthy\n",
      "Predictions:Apple___healthy\n",
      "Actual:Apple___healthy\n",
      "Predictions:Peach___Bacterial_spot\n",
      "Actual:Apple___healthy\n",
      "Predictions:Apple___healthy\n",
      "Actual:Corn_(maize)___healthy\n",
      "Predictions:Corn_(maize)___healthy\n",
      "Actual:Apple___Black_rot\n",
      "Predictions:Apple___Black_rot\n",
      "Actual:Apple___healthy\n",
      "Predictions:Apple___healthy\n",
      "Actual:Apple___Black_rot\n",
      "Predictions:Apple___Black_rot\n",
      "Actual:Peach___Bacterial_spot\n",
      "Predictions:Peach___Bacterial_spot\n",
      "Actual:Peach___Bacterial_spot\n",
      "Predictions:Peach___Bacterial_spot\n",
      "Actual:Apple___Black_rot\n",
      "Predictions:Apple___Black_rot\n",
      "Actual:Apple___healthy\n",
      "Predictions:Apple___healthy\n",
      "Actual:Apple___healthy\n",
      "Predictions:Apple___healthy\n",
      "Actual:Peach___Bacterial_spot\n",
      "Predictions:Peach___Bacterial_spot\n",
      "Actual:Peach___Bacterial_spot\n",
      "Predictions:Peach___Bacterial_spot\n",
      "Actual:Corn_(maize)___healthy\n",
      "Predictions:Corn_(maize)___healthy\n",
      "Actual:Peach___Bacterial_spot\n",
      "Predictions:Peach___Bacterial_spot\n",
      "Actual:Corn_(maize)___healthy\n",
      "Predictions:Corn_(maize)___healthy\n",
      "Actual:Peach___healthy\n",
      "Predictions:Peach___healthy\n",
      "Actual:Apple___healthy\n",
      "Predictions:Apple___healthy\n",
      "Actual:Peach___Bacterial_spot\n",
      "Predictions:Peach___Bacterial_spot\n",
      "Actual:Peach___Bacterial_spot\n",
      "Predictions:Peach___Bacterial_spot\n",
      "Actual:Apple___healthy\n",
      "Predictions:Apple___healthy\n",
      "Actual:Peach___Bacterial_spot\n",
      "Predictions:Peach___healthy\n",
      "Actual:Apple___Black_rot\n",
      "Predictions:Apple___Black_rot\n",
      "Actual:Apple___healthy\n",
      "Predictions:Apple___healthy\n",
      "Actual:Corn_(maize)___Northern_Leaf_Blight\n",
      "Predictions:Corn_(maize)___Northern_Leaf_Blight\n",
      "Actual:Peach___Bacterial_spot\n",
      "Predictions:Peach___Bacterial_spot\n",
      "Actual:Corn_(maize)___healthy\n",
      "Predictions:Corn_(maize)___healthy\n",
      "Actual:Apple___Black_rot\n",
      "Predictions:Apple___Black_rot\n",
      "Actual:Peach___Bacterial_spot\n",
      "Predictions:Peach___Bacterial_spot\n",
      "Actual:Peach___healthy\n",
      "Predictions:Peach___healthy\n",
      "Actual:Corn_(maize)___healthy\n",
      "Predictions:Corn_(maize)___healthy\n",
      "Actual:Peach___Bacterial_spot\n",
      "Predictions:Peach___Bacterial_spot\n",
      "Actual:Corn_(maize)___healthy\n",
      "Predictions:Corn_(maize)___healthy\n",
      "Actual:Apple___healthy\n",
      "Predictions:Apple___healthy\n",
      "Actual:Corn_(maize)___healthy\n",
      "Predictions:Corn_(maize)___healthy\n",
      "Actual:Peach___Bacterial_spot\n",
      "Predictions:Peach___Bacterial_spot\n",
      "Actual:Corn_(maize)___healthy\n",
      "Predictions:Corn_(maize)___healthy\n",
      "Actual:Corn_(maize)___Northern_Leaf_Blight\n",
      "Predictions:Corn_(maize)___Northern_Leaf_Blight\n",
      "Actual:Corn_(maize)___healthy\n",
      "Predictions:Corn_(maize)___healthy\n",
      "Actual:Peach___Bacterial_spot\n",
      "Predictions:Peach___Bacterial_spot\n",
      "Actual:Apple___healthy\n",
      "Predictions:Apple___healthy\n",
      "Actual:Corn_(maize)___healthy\n",
      "Predictions:Corn_(maize)___healthy\n",
      "Actual:Apple___healthy\n",
      "Predictions:Apple___healthy\n",
      "Actual:Apple___healthy\n",
      "Predictions:Apple___healthy\n",
      "Actual:Corn_(maize)___healthy\n",
      "Predictions:Corn_(maize)___healthy\n",
      "Actual:Corn_(maize)___Northern_Leaf_Blight\n",
      "Predictions:Corn_(maize)___Northern_Leaf_Blight\n",
      "Actual:Peach___Bacterial_spot\n",
      "Predictions:Peach___Bacterial_spot\n",
      "Actual:Peach___Bacterial_spot\n",
      "Predictions:Peach___Bacterial_spot\n",
      "Actual:Apple___Black_rot\n",
      "Predictions:Apple___Black_rot\n",
      "Actual:Peach___healthy\n",
      "Predictions:Peach___healthy\n",
      "Actual:Apple___healthy\n",
      "Predictions:Apple___healthy\n",
      "Actual:Peach___Bacterial_spot\n",
      "Predictions:Peach___Bacterial_spot\n",
      "Actual:Apple___healthy\n",
      "Predictions:Apple___healthy\n",
      "Actual:Peach___Bacterial_spot\n",
      "Predictions:Peach___Bacterial_spot\n",
      "Actual:Apple___healthy\n",
      "Predictions:Apple___healthy\n",
      "Actual:Peach___Bacterial_spot\n",
      "Predictions:Peach___Bacterial_spot\n",
      "Actual:Apple___healthy\n",
      "Predictions:Apple___healthy\n",
      "Actual:Apple___healthy\n",
      "Predictions:Apple___Black_rot\n",
      "Actual:Apple___healthy\n",
      "Predictions:Apple___healthy\n",
      "Actual:Corn_(maize)___healthy\n",
      "Predictions:Corn_(maize)___healthy\n",
      "Actual:Apple___healthy\n",
      "Predictions:Apple___healthy\n",
      "Actual:Apple___healthy\n",
      "Predictions:Apple___healthy\n",
      "Actual:Peach___Bacterial_spot\n",
      "Predictions:Peach___Bacterial_spot\n",
      "Actual:Corn_(maize)___healthy\n",
      "Predictions:Corn_(maize)___healthy\n",
      "Actual:Peach___Bacterial_spot\n",
      "Predictions:Peach___Bacterial_spot\n",
      "Actual:Corn_(maize)___healthy\n",
      "Predictions:Corn_(maize)___healthy\n",
      "Actual:Corn_(maize)___Northern_Leaf_Blight\n",
      "Predictions:Corn_(maize)___Northern_Leaf_Blight\n",
      "Actual:Peach___healthy\n",
      "Predictions:Peach___healthy\n",
      "Actual:Peach___Bacterial_spot\n",
      "Predictions:Peach___Bacterial_spot\n",
      "Actual:Corn_(maize)___healthy\n",
      "Predictions:Corn_(maize)___healthy\n",
      "Actual:Apple___Black_rot\n",
      "Predictions:Apple___Black_rot\n",
      "Actual:Apple___healthy\n",
      "Predictions:Apple___healthy\n",
      "Actual:Apple___healthy\n",
      "Predictions:Apple___healthy\n",
      "Actual:Corn_(maize)___healthy\n",
      "Predictions:Corn_(maize)___healthy\n",
      "Actual:Apple___healthy\n",
      "Predictions:Apple___healthy\n",
      "Actual:Apple___healthy\n",
      "Predictions:Apple___healthy\n",
      "Actual:Apple___Black_rot\n",
      "Predictions:Apple___Black_rot\n",
      "Actual:Peach___Bacterial_spot\n",
      "Predictions:Peach___Bacterial_spot\n",
      "Actual:Corn_(maize)___healthy\n",
      "Predictions:Corn_(maize)___healthy\n",
      "Actual:Peach___Bacterial_spot\n",
      "Predictions:Peach___Bacterial_spot\n",
      "Actual:Corn_(maize)___healthy\n",
      "Predictions:Corn_(maize)___healthy\n",
      "Actual:Peach___Bacterial_spot\n",
      "Predictions:Peach___Bacterial_spot\n",
      "Actual:Apple___healthy\n",
      "Predictions:Apple___healthy\n",
      "Actual:Apple___healthy\n",
      "Predictions:Apple___healthy\n",
      "Actual:Corn_(maize)___Northern_Leaf_Blight\n",
      "Predictions:Corn_(maize)___Northern_Leaf_Blight\n",
      "Actual:Peach___Bacterial_spot\n",
      "Predictions:Peach___Bacterial_spot\n",
      "Actual:Peach___Bacterial_spot\n",
      "Predictions:Peach___Bacterial_spot\n",
      "Actual:Peach___Bacterial_spot\n",
      "Predictions:Peach___Bacterial_spot\n",
      "Actual:Corn_(maize)___healthy\n",
      "Predictions:Corn_(maize)___healthy\n",
      "Actual:Apple___healthy\n",
      "Predictions:Apple___healthy\n",
      "Actual:Apple___healthy\n",
      "Predictions:Apple___healthy\n",
      "Actual:Peach___Bacterial_spot\n",
      "Predictions:Peach___Bacterial_spot\n",
      "Actual:Apple___Black_rot\n",
      "Predictions:Apple___Black_rot\n",
      "Actual:Corn_(maize)___Northern_Leaf_Blight\n",
      "Predictions:Corn_(maize)___Northern_Leaf_Blight\n",
      "Actual:Apple___healthy\n",
      "Predictions:Apple___healthy\n",
      "Actual:Apple___healthy\n",
      "Predictions:Apple___healthy\n",
      "Actual:Peach___Bacterial_spot\n",
      "Predictions:Peach___Bacterial_spot\n",
      "Actual:Peach___Bacterial_spot\n",
      "Predictions:Peach___Bacterial_spot\n",
      "Actual:Apple___Black_rot\n",
      "Predictions:Apple___Black_rot\n",
      "Actual:Apple___healthy\n",
      "Predictions:Apple___healthy\n",
      "Actual:Peach___Bacterial_spot\n",
      "Predictions:Peach___healthy\n",
      "Actual:Apple___healthy\n",
      "Predictions:Apple___healthy\n",
      "Actual:Apple___healthy\n",
      "Predictions:Apple___healthy\n",
      "Actual:Corn_(maize)___Northern_Leaf_Blight\n",
      "Predictions:Corn_(maize)___Northern_Leaf_Blight\n",
      "Actual:Apple___healthy\n",
      "Predictions:Apple___healthy\n",
      "Actual:Apple___healthy\n",
      "Predictions:Apple___healthy\n",
      "Actual:Apple___healthy\n",
      "Predictions:Apple___healthy\n",
      "Actual:Corn_(maize)___healthy\n",
      "Predictions:Corn_(maize)___healthy\n",
      "Actual:Apple___healthy\n",
      "Predictions:Apple___healthy\n",
      "Actual:Apple___healthy\n",
      "Predictions:Apple___healthy\n",
      "Actual:Peach___Bacterial_spot\n",
      "Predictions:Peach___Bacterial_spot\n",
      "Actual:Peach___Bacterial_spot\n",
      "Predictions:Peach___Bacterial_spot\n",
      "Actual:Apple___healthy\n",
      "Predictions:Apple___healthy\n",
      "Actual:Corn_(maize)___healthy\n",
      "Predictions:Corn_(maize)___healthy\n",
      "Actual:Corn_(maize)___Northern_Leaf_Blight\n",
      "Predictions:Corn_(maize)___Northern_Leaf_Blight\n",
      "Actual:Peach___Bacterial_spot\n",
      "Predictions:Peach___Bacterial_spot\n",
      "Actual:Peach___Bacterial_spot\n",
      "Predictions:Peach___Bacterial_spot\n",
      "Actual:Peach___Bacterial_spot\n",
      "Predictions:Peach___Bacterial_spot\n",
      "Actual:Peach___Bacterial_spot\n",
      "Predictions:Peach___Bacterial_spot\n",
      "Actual:Corn_(maize)___healthy\n",
      "Predictions:Corn_(maize)___healthy\n",
      "Actual:Peach___Bacterial_spot\n",
      "Predictions:Peach___Bacterial_spot\n",
      "Actual:Apple___healthy\n",
      "Predictions:Apple___healthy\n",
      "Actual:Corn_(maize)___healthy\n",
      "Predictions:Corn_(maize)___healthy\n",
      "Actual:Peach___Bacterial_spot\n",
      "Predictions:Peach___Bacterial_spot\n",
      "Actual:Peach___Bacterial_spot\n",
      "Predictions:Peach___Bacterial_spot\n",
      "Actual:Peach___Bacterial_spot\n",
      "Predictions:Peach___Bacterial_spot\n",
      "Actual:Apple___healthy\n",
      "Predictions:Apple___healthy\n",
      "Actual:Peach___healthy\n",
      "Predictions:Peach___healthy\n",
      "Actual:Corn_(maize)___healthy\n",
      "Predictions:Corn_(maize)___healthy\n"
     ]
    }
   ],
   "source": [
    "for i in range(146):\n",
    "    print('Actual:' + categories[tlabels[i]] + '\\n' + 'Predictions:' + categories[np.argmax(prediction[i])])"
   ]
  },
  {
   "cell_type": "code",
   "execution_count": 16,
   "id": "bb6d67d5",
   "metadata": {},
   "outputs": [
    {
     "name": "stdout",
     "output_type": "stream",
     "text": [
      "1625 /1686\n",
      "96.38196915776987 %\n"
     ]
    }
   ],
   "source": [
    "hi = 0\n",
    "for i in range(1686):\n",
    "    if categories[tlabels[i]] == categories[np.argmax(prediction[i])]:\n",
    "        hi = hi + 1\n",
    "print(hi,'/' + '1686')\n",
    "print(hi*100/1686,'%')"
   ]
  },
  {
   "cell_type": "code",
   "execution_count": null,
   "id": "7a290ec4",
   "metadata": {},
   "outputs": [],
   "source": []
  }
 ],
 "metadata": {
  "kernelspec": {
   "display_name": "Python 3 (ipykernel)",
   "language": "python",
   "name": "python3"
  },
  "language_info": {
   "codemirror_mode": {
    "name": "ipython",
    "version": 3
   },
   "file_extension": ".py",
   "mimetype": "text/x-python",
   "name": "python",
   "nbconvert_exporter": "python",
   "pygments_lexer": "ipython3",
   "version": "3.9.13"
  }
 },
 "nbformat": 4,
 "nbformat_minor": 5
}
